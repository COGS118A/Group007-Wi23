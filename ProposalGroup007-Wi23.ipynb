{
 "cells": [
  {
   "cell_type": "markdown",
   "metadata": {},
   "source": [
    "# COGS 118A- Project Proposal"
   ]
  },
  {
   "cell_type": "markdown",
   "metadata": {},
   "source": [
    "# Names\n",
    "\n",
    "- Antonio Aldama \n",
    "- Jie(MJ) Mei \n",
    "- Joshua Chen \n",
    "- Janet Ruiz\n"
   ]
  },
  {
   "cell_type": "markdown",
   "metadata": {},
   "source": [
    "# Abstract \n",
    "Our project aims to train and test an algorithm to classify people with an annual income of less than or equal to 50k dollars and people with an annual income of more than 50k dollars. We will use census data collected in 1994 that contains categorical and continuous variables. First, we will clean our dataset and do exploratory data analysis using python libraries pandas and numpy. Then we will try different classification methods from SciKit-Learn (e.g. K Nearest neighbor, Support Vector Machine, Decision Tree) to find the best model possible. Finally, using a confusion matrix we will test the performance of each classification algorithm."
   ]
  },
  {
   "cell_type": "markdown",
   "metadata": {},
   "source": [
    "# Background\n",
    "\n",
    "Societal inequalities and their implications are highlighted in censuses. Strmic-Pawl et al. note the need for “racial groups [to] be linked to tracking inequality” <a href=\"#source3\"><sup id=”note3”>[1]</sup></a>. It is possible to investigate the relation between race and social disparities because the US, unlike many other countries, asks for racial information in its census. The importance of this income disparity is furthered given that there is a relationship between income distribution and health <a href=\"#source4\"><sup id=”note4”>[2]</sup></a>. Ross used regression analyses to prove that populations with higher income inequality have higher mortality than more homogenous areas. The lower-income members are the ones likely to drive mortality rates upwards in these populations. Therefore, identifying the role of race in inequalities can help with better addressing these issues. \n",
    "\n",
    "Income inequality has been a prevalent problem in the United States. It is responsible for the income gaps among people of different races, genders, marital statuses, and occupations, etc. While the middle income population in America has decreased from 61% in 1971 to 51% in 2019, its shrinkage corresponds to the growth of the number of upper class households <a href=\"#source2\"><sup id=”note2”>[3]</sup></a>. In addition, the growth of median middle class income from 1970 to 2018 is 49%, which is considerably less than the 64% counterpart of the upper class. On the other hand, the low income population remained relatively constant for the past 50 years. The high mobility between middle and upper class would not mitigate the perpetuating income gaps. As income gaps contribute to the discrepancies of purchasing power, they would consolidate the systematic economic inequality. Therefore, we are trying to evaluate which attributes in our dataset contribute to the discrepancy in annual incomes. \n",
    "\n",
    "According to the U.S. Census Bureau, the median income for Black households have significantly lagged other races while Asian households was the highest reported in 2020, while the poverty rates for Black and Hispanic were also higher compared to other races <a href=\"#source5\"><sup id=”note5”>[4]</sup></a>. To combat this inequality, we aim to identify the other factors that contributed most to our prediction (other than race), and identify potential correlations between race + the other factor. This helps us determine what factors affect the inequality the most and would allow us to propose solutions to how we can combat this inequality. For example, if we found that education appears to be the factor that contributed most to our prediction, we can implement changes to the education system to help better combat income inequality.\n",
    "\n",
    "Similar to the discrepancies with race, sex and gender can also affect income. Gomez-Cravioto et al. created a classification model to predict ‘current income’ based on ‘first income’ in alumni from various Mexican private universities. In their exploratory analysis they show that ‘gender’, ‘school’ (i.e. major), and ‘years worked foreign’ had the biggest effect on ‘current income’. When further comparing gender with ‘first income’ and ‘current income’ it shows that on average female alums make $3,151 and $26,845 less than male alums respectively <a href=\"#source6\"><sup id=”note6”>[5]</sup></a>. Their results indicate that there exists a gender wage gap for university alums. Ultimately, even in populations that have completed higher education there is some form on inequity when it comes to gender and income. "
   ]
  },
  {
   "cell_type": "markdown",
   "metadata": {},
   "source": [
    "# Problem Statement\n",
    "We would like to classify the observations of our dataset into two groups: people who make less than and equal to 50k dollars a year and those who make an annual income that exceeds 50k dollars. Since the census data was collected in 1996, the threshold of 50k would be reasonable. Furthermore, we would scrutinize if there are any main trends in attributes that differentiate people from making similar incomes. \n",
    "Since we have a classification problem, some potential solutions include logistic regression, K Nearest Neighbor, Support Vector Machine, and Decision Tree, etc. For logistic regression, the problem could be expressed as f(x;w,b)={+1 if 1/(1+e^-(wTx+b))>=0.5, -1 otherwise), where x represents all of the regressors and w incorporates all the weight vectors. The logistic regression model could be measured with the confusion matrix metric based on the calculations of the recall and specificity rates of the model. The problem is also replicable with logistic regression because others could reproduce the process with similar techniques and packages. \n",
    "K nearest neighbor could be another potential solution because we have a classification problem with less than 20 attributes and lots of training data. We could split the data into testing and training before initiating k neighbors. Then we could utilize the Euclidean distance function for continuous data points and some forms of distance function for categorical data points. Then, we could perform majority voting and generate new labels with our test data. Eventually, our observations would be classified based on their proximity to the labels. The KNN model could be measured by the similar metric of the logistic regression model and is replicable as well. \n"
   ]
  },
  {
   "cell_type": "markdown",
   "metadata": {},
   "source": [
    "# Data\n",
    "\n",
    "We are going to use the [Adult Data Set from UC Irvine’s machine learning repository](https://archive.ics.uci.edu/ml/datasets/Adult)\n",
    "\n",
    "\n",
    "This dataset has 48842 observations, and 14 variables. An observation consists of a data point from the 1994 Census database. The observation includes age, workclass, fn|wgt (how many people each observation is estimated to represent), education, education-num, marital-status, occupation, relationship, race, sex, capital-gain, capital-loss, hours per week, native-country. \n",
    "\n",
    "The critical variables are \n",
    "- age: continuous \n",
    "- workclass: Private, Self-emp-not-inc, Self-emp-inc, Federal-gov, Local-gov, State-gov, Without-pay, Never-worked. \n",
    "- education: Bachelors, Some-college, 11th, HS-grad, Prof-school, Assoc-acdm, Assoc-voc, 9th, 7th-8th, 12th, Masters, 1st-4th, 10th, Doctorate, 5th-6th, Preschool. \n",
    "- marital-status: Married-civ-spouse, Divorced, Never-married, Separated, Widowed, Married-spouse-absent, Married-AF-spouse. \n",
    "- occupation: Tech-support, Craft-repair, Other-service, Sales, Exec-managerial, Prof-specialty, Handlers-cleaners, Machine-op-inspct, Adm-clerical,  Farming-fishing, Transport-moving, Priv-house-serv, Protective-serv, Armed-Forces.\n",
    "- race: White, Asian-Pac-Islander, Amer-Indian-Eskimo, Other, Black. \n",
    "- sex: Female, Male. \n",
    "- hours-per-week: continuous. \n",
    "- native-country: United-States, Cambodia, England, Puerto-Rico, Canada, Germany, Outlying-US(Guam-USVI-etc), India, Japan, Greece, South, China, Cuba, Iran, Honduras, Philippines, Italy, Poland, Jamaica, Vietnam, Mexico, Portugal, Ireland, France, Dominican-Republic, Laos, Ecuador, Taiwan, Haiti, Columbia, Hungary, Guatemala, Nicaragua, Scotland, Thailand, Yugoslavia, El-Salvador, Trinadad&Tobago, Peru, Hong, Holand-Netherlands.\n",
    "\n",
    "We will have to clean the data because some observations have missing variables. We will remove those observations from our analysis. \n"
   ]
  },
  {
   "cell_type": "markdown",
   "metadata": {},
   "source": [
    "# Proposed Solution\n",
    "Some of our potential solutions include logistic regression, K Nearest Neighbor, Support Vector Machine, and Decision Tree, etc. Therefore, the main python library that we would be using is SciKit-Learn and its various training algorithms. The main goal of using these models is to find the best model and the parameters that can best predict whether a person will make over 50k a year or not. With logistic regression, we can also infer which variable(s) influence the prediction the most.\n",
    "By discovering the characteristics of the data and the variable(s) that influence the prediction the most, we hope to apply some changes in those variables to help combat the inequality we see in the income of Americans.\n",
    "In addition, we would also use libraries panda and numpy to import the csv file and clean the data that we retrieved from the UCI repository. We will also be using the matplotlib and seaborn libraries to visualize the data and further determine which classifiers would be best for our problem.\n"
   ]
  },
  {
   "cell_type": "markdown",
   "metadata": {},
   "source": [
    "# Evaluation Metrics\n",
    "\n",
    "An evaluation metric that we will use is recall, precision, and F-value. We expect there to not be as many people that make over $50,000 a year. The median wage for 1994 is $16,118.02 <a href=\"#source1\"><sup id=”note1”>[1]</sup></a>. Therefore, a model that simply always assigned a data point to the negative class would likely have a very high specificity and be correct most of the time. However, it would be a bad model. Our evaluation metrics will focus on testing whether the model correctly identifies the positive class. We will prioritize recall, as this will tell us how much of the positive class we are able to correctly identify. However, we will use precision to make sure that we are not incorrectly labeling too many points as positive. Therefore, we will seek a good F-value, prioritizing recall over precision. \n",
    "Below are the formulas to calculate each: \n",
    "\n",
    "recall = TP/(TP + FN)\n",
    "\n",
    "precision = TP/(TP + FP)\n",
    "\n",
    "F-value = (2 * recall * precision)/(precision + recall)\n",
    "\n",
    "TP = True positive, FN = False negative, FP = False positive\n"
   ]
  },
  {
   "cell_type": "markdown",
   "metadata": {},
   "source": [
    "# Ethics & Privacy"
   ]
  },
  {
   "cell_type": "markdown",
   "metadata": {},
   "source": [
    "Possible ethics and privacy concerns during data collection can be informed consent and personally identifiable information exposure. To account for these issues people who participate in the census should be made aware that their information can be used for statistical research. Our dataset does not contain any names, identification numbers, or addresses; this reduces the possibility of personally identifiable information exposure. There is only enough information provided to draw a statistical model of the population. Additionally, because the census is a voluntary survey, collection bias, seen through nonresponse bias, is a big concern. Although the information provided by people cannot be used against them, certain communities (e.g. undocumented) may fear retaliation from the government if they participate. Other groups of people who may not respond are people who work multiple jobs, people in poverty, and people with no permanent address. Excluding their information from our model’s training will not give us predictive results with the population. Another issue that may arise during modeling may be proxy discrimination. Because race and sex will potentially be included as variables that predict income, we may model discrimination towards marginalized communities (e.g. people of color and women) who tend to work in lower paying industries."
   ]
  },
  {
   "cell_type": "markdown",
   "metadata": {},
   "source": [
    "# Team Expectations "
   ]
  },
  {
   "cell_type": "markdown",
   "metadata": {},
   "source": [
    "- Maintain efficient communication\n",
    "- Notify other team members about file commits\n",
    "- Show up to meetings on time\n",
    "- Divide up the work equally and fairly\n",
    "- Start planning early to avoid procrastination\n",
    "- Let others know if you run into obstacles\n"
   ]
  },
  {
   "cell_type": "markdown",
   "metadata": {},
   "source": [
    "# Project Timeline Proposal"
   ]
  },
  {
   "cell_type": "markdown",
   "metadata": {},
   "source": [
    "Replace this with something meaningful that is appropriate for your needs. It doesn't have to be something that fits this format.  It doesn't have to be set in stone... \"no battle plan survives contact with the enemy\". But you need a battle plan nonetheless, and you need to keep it updated so you understand what you are trying to accomplish, who's responsible for what, and what the expected due dates are for each item.\n",
    "\n",
    "| Meeting Date  | Meeting Time| Completed Before Meeting  | Discuss at Meeting |\n",
    "|---|---|---|---|\n",
    "| 2/19  |  11 AM |  Brainstorm topics/questions (all)  | Determine best form of communication; Discuss and decide on final project topic; discuss hypothesis; begin background research | \n",
    "| 2/21  |  10 AM |  Do background research on topic (all) | Discuss ideal dataset(s) and ethics; draft project proposal | \n",
    "| 2/22  | 10 AM  | Edit, finalize, and submit proposal; Search for datasets (all)  | Discuss Wrangling and possible analytical approaches; Assign group members to lead each specific part   |\n",
    "| 2/24  | 6 PM  | Import & Wrangle Data ,do some EDA (Antonio) | Review/Edit wrangling/EDA; Discuss Analysis Plan   |\n",
    "| 3/6  | 12 PM  | Finalize wrangling/EDA; Begin programming for project (Joshua) | Discuss/edit project code; Complete project |\n",
    "| 3/8  | 12 PM  | Complete analysis; Draft results/conclusion/discussion (MJ)| Turn in project checkpoint |\n",
    "| 3/15  | Before 11:59 PM  | Meet to go over everyone's work so far | Meet to discuss everyone’s work so far. |\n",
    "| 3/22  | Before 11:59 PM  | NA | Turn in Final Project  |"
   ]
  },
  {
   "cell_type": "markdown",
   "metadata": {},
   "source": [
    "# Footnotes\n",
    "<p id=”source1”> 1.<a href=”#note1”>^</a>: Social Security Administration. Measures Of Central Tendency For Wage Data.https://www.ssa.gov/oact/cola/central.html. Accessed 20 Feb. 2023. </p>\n",
    "<p id=”source2”> 2.<a href=”#note2”>^</a>: Pew Research Center. Trends in income and wealth inequality. https://www.pewresearch.org/social-trends/2020/01/09/trends-in-income-and-wealth-inequality/. Accessed 20 Feb. 2023. </p>\n",
    "<p id=”source3”> 3.<a href=”#note3”>^</a>: Strmic-Pawl, H. V., Jackson, B. A., & Garner, S. (2017). Race counts: Racial and ethnic data on the U.S. Census and the implications for tracking inequality. Sociology of Race and Ethnicity, 4(1), 1–13. https://doi.org/10.1177/2332649217742869 </p>\n",
    "<p id=”source4”> 4.<a href=”#note4”>^</a>: Ross, N. A. (2000). Relation between income inequality and mortality in Canada and in the United States: Cross Sectional Assessment using census data and vital statistics. BMJ, 320(7239), 898–902. https://doi.org/10.1136/bmj.320.7239.898 </p>\n",
    "<p id=”source5”> 5.<a href=”#note5”>^</a>: Waddington, David. “Census Bureau Statistics Measure Equity Gaps across Demographic Groups.” Census.gov, 10 June 2022, https://www.census.gov/library/stories/2021/09/understanding-equity-through-census-bureau-data.html. </p>\n",
    "<p id=\"source6\">6.<a href=”#note6”>^</a>: Gomez-Cravioto, D.A., Diaz-Ramos, R.E., Hernandez-Gress, N. et al. Supervised machine learning predictive analytics for alumni income. J Big Data 9, 11 (2022). https://doi.org/10.1186/s40537-022-00559-6 </p>"
   ]
  },
  {
   "cell_type": "code",
   "execution_count": null,
   "metadata": {},
   "outputs": [],
   "source": []
  }
 ],
 "metadata": {
  "kernelspec": {
   "display_name": "Python 3",
   "language": "python",
   "name": "python3"
  },
  "language_info": {
   "codemirror_mode": {
    "name": "ipython",
    "version": 3
   },
   "file_extension": ".py",
   "mimetype": "text/x-python",
   "name": "python",
   "nbconvert_exporter": "python",
   "pygments_lexer": "ipython3",
   "version": "3.8.3"
  }
 },
 "nbformat": 4,
 "nbformat_minor": 2
}
